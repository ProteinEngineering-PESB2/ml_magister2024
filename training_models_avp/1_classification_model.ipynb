{
 "cells": [
  {
   "cell_type": "code",
   "execution_count": 1,
   "metadata": {},
   "outputs": [],
   "source": [
    "import pandas as pd\n",
    "from sklearn.ensemble import AdaBoostClassifier, RandomForestClassifier\n",
    "from sklearn.tree import DecisionTreeClassifier\n",
    "from sklearn.svm import SVC\n",
    "from lightgbm import LGBMClassifier\n",
    "from xgboost import XGBClassifier"
   ]
  },
  {
   "cell_type": "code",
   "execution_count": 2,
   "metadata": {},
   "outputs": [],
   "source": [
    "from sklearn.model_selection import train_test_split"
   ]
  },
  {
   "cell_type": "code",
   "execution_count": 3,
   "metadata": {},
   "outputs": [],
   "source": [
    "from sklearn.metrics import accuracy_score, precision_score, f1_score, recall_score, matthews_corrcoef"
   ]
  },
  {
   "cell_type": "code",
   "execution_count": 4,
   "metadata": {},
   "outputs": [],
   "source": [
    "def get_performances(y_val, y_predict, description):\n",
    "\n",
    "    row = [\n",
    "        description,\n",
    "        accuracy_score(y_true=y_val, y_pred=y_predict),\n",
    "        precision_score(y_true=y_val, y_pred=y_predict),\n",
    "        f1_score(y_true=y_val, y_pred=y_predict),\n",
    "        recall_score(y_true=y_val, y_pred=y_predict),\n",
    "        matthews_corrcoef(y_true=y_val, y_pred=y_predict)\n",
    "    ]\n",
    "\n",
    "    return row"
   ]
  },
  {
   "cell_type": "code",
   "execution_count": 5,
   "metadata": {},
   "outputs": [
    {
     "data": {
      "text/html": [
       "<div>\n",
       "<style scoped>\n",
       "    .dataframe tbody tr th:only-of-type {\n",
       "        vertical-align: middle;\n",
       "    }\n",
       "\n",
       "    .dataframe tbody tr th {\n",
       "        vertical-align: top;\n",
       "    }\n",
       "\n",
       "    .dataframe thead th {\n",
       "        text-align: right;\n",
       "    }\n",
       "</style>\n",
       "<table border=\"1\" class=\"dataframe\">\n",
       "  <thead>\n",
       "    <tr style=\"text-align: right;\">\n",
       "      <th></th>\n",
       "      <th>sequence</th>\n",
       "      <th>Activity</th>\n",
       "      <th>MW</th>\n",
       "      <th>isoelectric_point</th>\n",
       "      <th>aromaticity</th>\n",
       "      <th>aliphatic_index</th>\n",
       "      <th>boman_index</th>\n",
       "      <th>charge</th>\n",
       "      <th>charge_density</th>\n",
       "      <th>hydrophobic_ratio</th>\n",
       "      <th>instability_index</th>\n",
       "    </tr>\n",
       "  </thead>\n",
       "  <tbody>\n",
       "    <tr>\n",
       "      <th>0</th>\n",
       "      <td>KKKKVVEATYVLV</td>\n",
       "      <td>1</td>\n",
       "      <td>1503.88</td>\n",
       "      <td>10.7646</td>\n",
       "      <td>0.0769</td>\n",
       "      <td>126.9231</td>\n",
       "      <td>0.6792</td>\n",
       "      <td>3.996</td>\n",
       "      <td>0.00266</td>\n",
       "      <td>0.4615</td>\n",
       "      <td>2.7000</td>\n",
       "    </tr>\n",
       "    <tr>\n",
       "      <th>1</th>\n",
       "      <td>GLPVCGESCFGGSCYTPGCSCTWPICTRD</td>\n",
       "      <td>1</td>\n",
       "      <td>2999.44</td>\n",
       "      <td>5.8203</td>\n",
       "      <td>0.1034</td>\n",
       "      <td>36.8966</td>\n",
       "      <td>0.5838</td>\n",
       "      <td>-0.408</td>\n",
       "      <td>-0.00014</td>\n",
       "      <td>0.3448</td>\n",
       "      <td>79.3310</td>\n",
       "    </tr>\n",
       "    <tr>\n",
       "      <th>2</th>\n",
       "      <td>MQYKINMYAIVVYDVNVSRQNQIREFLRKYLYHVQRSVFEGEISPS...</td>\n",
       "      <td>1</td>\n",
       "      <td>10913.64</td>\n",
       "      <td>8.9775</td>\n",
       "      <td>0.1319</td>\n",
       "      <td>108.0220</td>\n",
       "      <td>1.5576</td>\n",
       "      <td>2.028</td>\n",
       "      <td>0.00019</td>\n",
       "      <td>0.3846</td>\n",
       "      <td>60.4879</td>\n",
       "    </tr>\n",
       "    <tr>\n",
       "      <th>3</th>\n",
       "      <td>KQEGRDHDKSKGHFHMIVIHHKGGQAHHG</td>\n",
       "      <td>1</td>\n",
       "      <td>3308.67</td>\n",
       "      <td>10.6753</td>\n",
       "      <td>0.0345</td>\n",
       "      <td>40.3448</td>\n",
       "      <td>2.8534</td>\n",
       "      <td>3.689</td>\n",
       "      <td>0.00111</td>\n",
       "      <td>0.2069</td>\n",
       "      <td>19.3345</td>\n",
       "    </tr>\n",
       "    <tr>\n",
       "      <th>4</th>\n",
       "      <td>LAHKSRLYERHM</td>\n",
       "      <td>1</td>\n",
       "      <td>1539.81</td>\n",
       "      <td>11.2881</td>\n",
       "      <td>0.0833</td>\n",
       "      <td>73.3333</td>\n",
       "      <td>3.4217</td>\n",
       "      <td>3.194</td>\n",
       "      <td>0.00207</td>\n",
       "      <td>0.3333</td>\n",
       "      <td>47.6417</td>\n",
       "    </tr>\n",
       "  </tbody>\n",
       "</table>\n",
       "</div>"
      ],
      "text/plain": [
       "                                            sequence  Activity        MW  \\\n",
       "0                                      KKKKVVEATYVLV         1   1503.88   \n",
       "1                      GLPVCGESCFGGSCYTPGCSCTWPICTRD         1   2999.44   \n",
       "2  MQYKINMYAIVVYDVNVSRQNQIREFLRKYLYHVQRSVFEGEISPS...         1  10913.64   \n",
       "3                      KQEGRDHDKSKGHFHMIVIHHKGGQAHHG         1   3308.67   \n",
       "4                                       LAHKSRLYERHM         1   1539.81   \n",
       "\n",
       "   isoelectric_point  aromaticity  aliphatic_index  boman_index  charge  \\\n",
       "0            10.7646       0.0769         126.9231       0.6792   3.996   \n",
       "1             5.8203       0.1034          36.8966       0.5838  -0.408   \n",
       "2             8.9775       0.1319         108.0220       1.5576   2.028   \n",
       "3            10.6753       0.0345          40.3448       2.8534   3.689   \n",
       "4            11.2881       0.0833          73.3333       3.4217   3.194   \n",
       "\n",
       "   charge_density  hydrophobic_ratio  instability_index  \n",
       "0         0.00266             0.4615             2.7000  \n",
       "1        -0.00014             0.3448            79.3310  \n",
       "2         0.00019             0.3846            60.4879  \n",
       "3         0.00111             0.2069            19.3345  \n",
       "4         0.00207             0.3333            47.6417  "
      ]
     },
     "execution_count": 5,
     "metadata": {},
     "output_type": "execute_result"
    }
   ],
   "source": [
    "df_data = pd.read_csv(\"../clustering_examples/estimated_properties.csv\")\n",
    "df_data.head()"
   ]
  },
  {
   "cell_type": "code",
   "execution_count": 6,
   "metadata": {},
   "outputs": [],
   "source": [
    "df_values = df_data.drop(columns=[\"sequence\", \"Activity\"])\n",
    "response = df_data[\"Activity\"].values"
   ]
  },
  {
   "cell_type": "code",
   "execution_count": 7,
   "metadata": {},
   "outputs": [],
   "source": [
    "X_train, X_test, y_train, y_test = train_test_split(df_values, response, test_size=.1, random_state=42)\n",
    "X_train, X_val, y_train, y_val = train_test_split(X_train, y_train, test_size=.25, random_state=42)\n"
   ]
  },
  {
   "cell_type": "code",
   "execution_count": 8,
   "metadata": {},
   "outputs": [
    {
     "name": "stderr",
     "output_type": "stream",
     "text": [
      "/home/david/miniconda3/envs/develop/lib/python3.12/site-packages/sklearn/ensemble/_weight_boosting.py:527: FutureWarning: The SAMME.R algorithm (the default) is deprecated and will be removed in 1.6. Use the SAMME algorithm to circumvent this warning.\n",
      "  warnings.warn(\n"
     ]
    },
    {
     "name": "stdout",
     "output_type": "stream",
     "text": [
      "[LightGBM] [Info] Number of positive: 3468, number of negative: 3520\n",
      "[LightGBM] [Info] Auto-choosing col-wise multi-threading, the overhead of testing was 0.000347 seconds.\n",
      "You can set `force_col_wise=true` to remove the overhead.\n",
      "[LightGBM] [Info] Total Bins 2250\n",
      "[LightGBM] [Info] Number of data points in the train set: 6988, number of used features: 9\n",
      "[LightGBM] [Info] [binary:BoostFromScore]: pavg=0.496279 -> initscore=-0.014883\n",
      "[LightGBM] [Info] Start training from score -0.014883\n"
     ]
    }
   ],
   "source": [
    "adaboost_instance = AdaBoostClassifier(random_state=42).fit(X=X_train, y=y_train)\n",
    "rf_instance = RandomForestClassifier(random_state=42).fit(X=X_train, y=y_train)\n",
    "svc_instance = SVC(probability=True, random_state=42).fit(X=X_train, y=y_train)\n",
    "dt_instance = DecisionTreeClassifier().fit(X=X_train, y=y_train)\n",
    "lgbm_instance = LGBMClassifier().fit(X=X_train, y=y_train)\n",
    "xgboost_instance = XGBClassifier().fit(X=X_train, y=y_train)\n"
   ]
  },
  {
   "cell_type": "code",
   "execution_count": 9,
   "metadata": {},
   "outputs": [],
   "source": [
    "val_predictions_adaboost = adaboost_instance.predict(X_val)\n",
    "val_predictions_rf = rf_instance.predict(X_val)\n",
    "val_predictions_dt = dt_instance.predict(X_val)\n",
    "val_predictions_svc = svc_instance.predict(X_val)\n",
    "val_predictions_lgbm = lgbm_instance.predict(X_val)\n",
    "val_predictions_xgboost = xgboost_instance.predict(X_val)"
   ]
  },
  {
   "cell_type": "code",
   "execution_count": 10,
   "metadata": {},
   "outputs": [],
   "source": [
    "test_predictions_adaboost = adaboost_instance.predict(X_test)\n",
    "test_predictions_rf = rf_instance.predict(X_test)\n",
    "test_predictions_dt = dt_instance.predict(X_test)\n",
    "test_predictions_svc = svc_instance.predict(X_test)\n",
    "test_predictions_lgbm = lgbm_instance.predict(X_test)\n",
    "test_predictions_xgboost = xgboost_instance.predict(X_test)"
   ]
  },
  {
   "cell_type": "code",
   "execution_count": 11,
   "metadata": {},
   "outputs": [
    {
     "data": {
      "text/html": [
       "<div>\n",
       "<style scoped>\n",
       "    .dataframe tbody tr th:only-of-type {\n",
       "        vertical-align: middle;\n",
       "    }\n",
       "\n",
       "    .dataframe tbody tr th {\n",
       "        vertical-align: top;\n",
       "    }\n",
       "\n",
       "    .dataframe thead th {\n",
       "        text-align: right;\n",
       "    }\n",
       "</style>\n",
       "<table border=\"1\" class=\"dataframe\">\n",
       "  <thead>\n",
       "    <tr style=\"text-align: right;\">\n",
       "      <th></th>\n",
       "      <th>description</th>\n",
       "      <th>accuracy</th>\n",
       "      <th>precision</th>\n",
       "      <th>f1</th>\n",
       "      <th>recall</th>\n",
       "      <th>mcc</th>\n",
       "    </tr>\n",
       "  </thead>\n",
       "  <tbody>\n",
       "    <tr>\n",
       "      <th>0</th>\n",
       "      <td>Adaboost</td>\n",
       "      <td>0.647210</td>\n",
       "      <td>0.626210</td>\n",
       "      <td>0.671725</td>\n",
       "      <td>0.724376</td>\n",
       "      <td>0.298451</td>\n",
       "    </tr>\n",
       "    <tr>\n",
       "      <th>1</th>\n",
       "      <td>RF</td>\n",
       "      <td>0.727897</td>\n",
       "      <td>0.719766</td>\n",
       "      <td>0.731356</td>\n",
       "      <td>0.743325</td>\n",
       "      <td>0.456091</td>\n",
       "    </tr>\n",
       "    <tr>\n",
       "      <th>2</th>\n",
       "      <td>DT</td>\n",
       "      <td>0.672532</td>\n",
       "      <td>0.665282</td>\n",
       "      <td>0.677378</td>\n",
       "      <td>0.689922</td>\n",
       "      <td>0.345375</td>\n",
       "    </tr>\n",
       "    <tr>\n",
       "      <th>3</th>\n",
       "      <td>SVC</td>\n",
       "      <td>0.587983</td>\n",
       "      <td>0.551093</td>\n",
       "      <td>0.693095</td>\n",
       "      <td>0.933678</td>\n",
       "      <td>0.245864</td>\n",
       "    </tr>\n",
       "    <tr>\n",
       "      <th>4</th>\n",
       "      <td>LGBM</td>\n",
       "      <td>0.721459</td>\n",
       "      <td>0.711921</td>\n",
       "      <td>0.726045</td>\n",
       "      <td>0.740741</td>\n",
       "      <td>0.443350</td>\n",
       "    </tr>\n",
       "    <tr>\n",
       "      <th>5</th>\n",
       "      <td>XGBoost</td>\n",
       "      <td>0.725322</td>\n",
       "      <td>0.714403</td>\n",
       "      <td>0.730640</td>\n",
       "      <td>0.747631</td>\n",
       "      <td>0.451210</td>\n",
       "    </tr>\n",
       "  </tbody>\n",
       "</table>\n",
       "</div>"
      ],
      "text/plain": [
       "  description  accuracy  precision        f1    recall       mcc\n",
       "0    Adaboost  0.647210   0.626210  0.671725  0.724376  0.298451\n",
       "1          RF  0.727897   0.719766  0.731356  0.743325  0.456091\n",
       "2          DT  0.672532   0.665282  0.677378  0.689922  0.345375\n",
       "3         SVC  0.587983   0.551093  0.693095  0.933678  0.245864\n",
       "4        LGBM  0.721459   0.711921  0.726045  0.740741  0.443350\n",
       "5     XGBoost  0.725322   0.714403  0.730640  0.747631  0.451210"
      ]
     },
     "execution_count": 11,
     "metadata": {},
     "output_type": "execute_result"
    }
   ],
   "source": [
    "matrix_val = [get_performances(y_val, val_predictions_adaboost, \"Adaboost\"),\n",
    "    get_performances(y_val, val_predictions_rf, \"RF\"),\n",
    "    get_performances(y_val, val_predictions_dt, \"DT\"),\n",
    "    get_performances(y_val, val_predictions_svc, \"SVC\"),\n",
    "    get_performances(y_val, val_predictions_lgbm, \"LGBM\"),\n",
    "    get_performances(y_val, val_predictions_xgboost, \"XGBoost\")\n",
    "]\n",
    "\n",
    "df_performance_val = pd.DataFrame(data=matrix_val, columns=[\"description\", \"accuracy\",\n",
    "                                                            \"precision\", \"f1\", \"recall\", \"mcc\"])\n",
    "df_performance_val\n"
   ]
  },
  {
   "cell_type": "code",
   "execution_count": 12,
   "metadata": {},
   "outputs": [
    {
     "data": {
      "text/html": [
       "<div>\n",
       "<style scoped>\n",
       "    .dataframe tbody tr th:only-of-type {\n",
       "        vertical-align: middle;\n",
       "    }\n",
       "\n",
       "    .dataframe tbody tr th {\n",
       "        vertical-align: top;\n",
       "    }\n",
       "\n",
       "    .dataframe thead th {\n",
       "        text-align: right;\n",
       "    }\n",
       "</style>\n",
       "<table border=\"1\" class=\"dataframe\">\n",
       "  <thead>\n",
       "    <tr style=\"text-align: right;\">\n",
       "      <th></th>\n",
       "      <th>description</th>\n",
       "      <th>accuracy</th>\n",
       "      <th>precision</th>\n",
       "      <th>f1</th>\n",
       "      <th>recall</th>\n",
       "      <th>mcc</th>\n",
       "    </tr>\n",
       "  </thead>\n",
       "  <tbody>\n",
       "    <tr>\n",
       "      <th>0</th>\n",
       "      <td>Adaboost</td>\n",
       "      <td>0.652510</td>\n",
       "      <td>0.652104</td>\n",
       "      <td>0.691252</td>\n",
       "      <td>0.735401</td>\n",
       "      <td>0.299976</td>\n",
       "    </tr>\n",
       "    <tr>\n",
       "      <th>1</th>\n",
       "      <td>RF</td>\n",
       "      <td>0.747104</td>\n",
       "      <td>0.757194</td>\n",
       "      <td>0.762681</td>\n",
       "      <td>0.768248</td>\n",
       "      <td>0.492110</td>\n",
       "    </tr>\n",
       "    <tr>\n",
       "      <th>2</th>\n",
       "      <td>DT</td>\n",
       "      <td>0.689189</td>\n",
       "      <td>0.699647</td>\n",
       "      <td>0.710952</td>\n",
       "      <td>0.722628</td>\n",
       "      <td>0.375253</td>\n",
       "    </tr>\n",
       "    <tr>\n",
       "      <th>3</th>\n",
       "      <td>SVC</td>\n",
       "      <td>0.614865</td>\n",
       "      <td>0.584755</td>\n",
       "      <td>0.720392</td>\n",
       "      <td>0.937956</td>\n",
       "      <td>0.264498</td>\n",
       "    </tr>\n",
       "    <tr>\n",
       "      <th>4</th>\n",
       "      <td>LGBM</td>\n",
       "      <td>0.729730</td>\n",
       "      <td>0.736749</td>\n",
       "      <td>0.748654</td>\n",
       "      <td>0.760949</td>\n",
       "      <td>0.456822</td>\n",
       "    </tr>\n",
       "    <tr>\n",
       "      <th>5</th>\n",
       "      <td>XGBoost</td>\n",
       "      <td>0.738417</td>\n",
       "      <td>0.754128</td>\n",
       "      <td>0.752059</td>\n",
       "      <td>0.750000</td>\n",
       "      <td>0.475258</td>\n",
       "    </tr>\n",
       "  </tbody>\n",
       "</table>\n",
       "</div>"
      ],
      "text/plain": [
       "  description  accuracy  precision        f1    recall       mcc\n",
       "0    Adaboost  0.652510   0.652104  0.691252  0.735401  0.299976\n",
       "1          RF  0.747104   0.757194  0.762681  0.768248  0.492110\n",
       "2          DT  0.689189   0.699647  0.710952  0.722628  0.375253\n",
       "3         SVC  0.614865   0.584755  0.720392  0.937956  0.264498\n",
       "4        LGBM  0.729730   0.736749  0.748654  0.760949  0.456822\n",
       "5     XGBoost  0.738417   0.754128  0.752059  0.750000  0.475258"
      ]
     },
     "execution_count": 12,
     "metadata": {},
     "output_type": "execute_result"
    }
   ],
   "source": [
    "matrix_test = [get_performances(y_test, test_predictions_adaboost, \"Adaboost\"),\n",
    "    get_performances(y_test, test_predictions_rf, \"RF\"),\n",
    "    get_performances(y_test, test_predictions_dt, \"DT\"),\n",
    "    get_performances(y_test, test_predictions_svc, \"SVC\"),\n",
    "    get_performances(y_test, test_predictions_lgbm, \"LGBM\"),\n",
    "    get_performances(y_test, test_predictions_xgboost, \"XGBoost\")\n",
    "]\n",
    "\n",
    "df_performance_test = pd.DataFrame(data=matrix_test, columns=[\"description\", \"accuracy\",\n",
    "                                                            \"precision\", \"f1\", \"recall\", \"mcc\"])\n",
    "df_performance_test"
   ]
  },
  {
   "cell_type": "code",
   "execution_count": 13,
   "metadata": {},
   "outputs": [],
   "source": [
    "import joblib"
   ]
  },
  {
   "cell_type": "code",
   "execution_count": 14,
   "metadata": {},
   "outputs": [
    {
     "data": {
      "text/plain": [
       "['xgboost_model.joblib']"
      ]
     },
     "execution_count": 14,
     "metadata": {},
     "output_type": "execute_result"
    }
   ],
   "source": [
    "joblib.dump(rf_instance, \"rf_model.joblib\")\n",
    "joblib.dump(xgboost_instance, \"xgboost_model.joblib\")"
   ]
  }
 ],
 "metadata": {
  "kernelspec": {
   "display_name": "develop",
   "language": "python",
   "name": "python3"
  },
  "language_info": {
   "codemirror_mode": {
    "name": "ipython",
    "version": 3
   },
   "file_extension": ".py",
   "mimetype": "text/x-python",
   "name": "python",
   "nbconvert_exporter": "python",
   "pygments_lexer": "ipython3",
   "version": "3.12.3"
  }
 },
 "nbformat": 4,
 "nbformat_minor": 2
}
