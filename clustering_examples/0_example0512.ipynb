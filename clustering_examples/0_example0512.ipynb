{
 "cells": [
  {
   "cell_type": "code",
   "execution_count": 1,
   "metadata": {},
   "outputs": [],
   "source": [
    "import pandas as pd\n",
    "from modlamp.descriptors import GlobalDescriptor"
   ]
  },
  {
   "cell_type": "code",
   "execution_count": 2,
   "metadata": {},
   "outputs": [],
   "source": [
    "def get_mw(sequence):\n",
    "    \"\"\"Molecular Weight\"\"\"\n",
    "    try:\n",
    "        desc = GlobalDescriptor([sequence])\n",
    "        desc.calculate_MW(amide=True)\n",
    "        return round(desc.descriptor[0][0], 4)\n",
    "    except:\n",
    "        return None\n",
    "\n",
    "def get_isoelectric_point(sequence):\n",
    "    \"\"\"Isoelectric point\"\"\"\n",
    "    try:\n",
    "        desc = GlobalDescriptor([sequence])\n",
    "        desc.isoelectric_point(amide=True)\n",
    "        return round(desc.descriptor[0][0], 4)\n",
    "    except:\n",
    "        return None\n",
    "\n",
    "def get_charge_density(sequence):\n",
    "    \"\"\"Charge density\"\"\"\n",
    "    try:\n",
    "        desc = GlobalDescriptor([sequence])\n",
    "        desc.charge_density(ph=7, amide=True)\n",
    "        return round(desc.descriptor[0][0], 5)\n",
    "    except:\n",
    "        return None\n",
    "\n",
    "def get_charge(sequence):\n",
    "    \"\"\"Charge\"\"\"\n",
    "    try:\n",
    "        desc = GlobalDescriptor([sequence])\n",
    "        desc.calculate_charge(ph=7, amide=True)\n",
    "        return round(desc.descriptor[0][0], 4)\n",
    "    except:\n",
    "        return None\n",
    "\n",
    "def get_instability_index(sequence):\n",
    "    \"\"\"Instability index\"\"\"\n",
    "    try:\n",
    "        desc = GlobalDescriptor([sequence])\n",
    "        desc.instability_index()\n",
    "        return round(desc.descriptor[0][0], 4)\n",
    "    except:\n",
    "        return None\n",
    "\n",
    "def get_aromaticity(sequence):\n",
    "    \"\"\"Aromaticity\"\"\"\n",
    "    try:\n",
    "        desc = GlobalDescriptor([sequence])\n",
    "        desc.aromaticity()\n",
    "        return round(desc.descriptor[0][0], 4)\n",
    "    except:\n",
    "        return None\n",
    "\n",
    "def get_aliphatic_index(sequence):\n",
    "    \"\"\"Aliphatic index\"\"\"\n",
    "    try:\n",
    "        desc = GlobalDescriptor([sequence])\n",
    "        desc.aliphatic_index()\n",
    "        return round(desc.descriptor[0][0], 4)\n",
    "    except:\n",
    "        return None\n",
    "\n",
    "def get_boman_index(sequence):\n",
    "    \"\"\"Boman index\"\"\"\n",
    "    try:\n",
    "        desc = GlobalDescriptor([sequence])\n",
    "        desc.boman_index()\n",
    "        return round(desc.descriptor[0][0], 4)\n",
    "    except:\n",
    "        return None\n",
    "\n",
    "def get_hydrophobic_ratio(sequence):\n",
    "    \"\"\"Hydrophobic ratio\"\"\"\n",
    "    try:\n",
    "        desc = GlobalDescriptor([sequence])\n",
    "        desc.hydrophobic_ratio()\n",
    "        return round(desc.descriptor[0][0], 4)\n",
    "    except:\n",
    "        return None"
   ]
  },
  {
   "cell_type": "code",
   "execution_count": 3,
   "metadata": {},
   "outputs": [
    {
     "data": {
      "text/html": [
       "<div>\n",
       "<style scoped>\n",
       "    .dataframe tbody tr th:only-of-type {\n",
       "        vertical-align: middle;\n",
       "    }\n",
       "\n",
       "    .dataframe tbody tr th {\n",
       "        vertical-align: top;\n",
       "    }\n",
       "\n",
       "    .dataframe thead th {\n",
       "        text-align: right;\n",
       "    }\n",
       "</style>\n",
       "<table border=\"1\" class=\"dataframe\">\n",
       "  <thead>\n",
       "    <tr style=\"text-align: right;\">\n",
       "      <th></th>\n",
       "      <th>sequence</th>\n",
       "      <th>Activity</th>\n",
       "    </tr>\n",
       "  </thead>\n",
       "  <tbody>\n",
       "    <tr>\n",
       "      <th>0</th>\n",
       "      <td>KKKKVVEATYVLV</td>\n",
       "      <td>1</td>\n",
       "    </tr>\n",
       "    <tr>\n",
       "      <th>1</th>\n",
       "      <td>GLPVCGESCFGGSCYTPGCSCTWPICTRD</td>\n",
       "      <td>1</td>\n",
       "    </tr>\n",
       "    <tr>\n",
       "      <th>2</th>\n",
       "      <td>MQYKINMYAIVVYDVNVSRQNQIREFLRKYLYHVQRSVFEGEISPS...</td>\n",
       "      <td>1</td>\n",
       "    </tr>\n",
       "    <tr>\n",
       "      <th>3</th>\n",
       "      <td>KQEGRDHDKSKGHFHMIVIHHKGGQAHHG</td>\n",
       "      <td>1</td>\n",
       "    </tr>\n",
       "    <tr>\n",
       "      <th>4</th>\n",
       "      <td>LAHKSRLYERHM</td>\n",
       "      <td>1</td>\n",
       "    </tr>\n",
       "    <tr>\n",
       "      <th>...</th>\n",
       "      <td>...</td>\n",
       "      <td>...</td>\n",
       "    </tr>\n",
       "    <tr>\n",
       "      <th>86472</th>\n",
       "      <td>RRRRRRRRGNLWAAQRYGRELRRMSDEFVDSFKK</td>\n",
       "      <td>0</td>\n",
       "    </tr>\n",
       "    <tr>\n",
       "      <th>86473</th>\n",
       "      <td>VIGGDECNINEHRFLVALYDGLSGTFLCGG</td>\n",
       "      <td>0</td>\n",
       "    </tr>\n",
       "    <tr>\n",
       "      <th>86474</th>\n",
       "      <td>MAAHKSFRIKQKLAKKLKQNRSVPQWVRLATGNTIRYNAKRRHWRR...</td>\n",
       "      <td>0</td>\n",
       "    </tr>\n",
       "    <tr>\n",
       "      <th>86475</th>\n",
       "      <td>GIACLCDSDGPSVRGNTLSGTYWLAGCPSGWHNCKSSGQLIGACCKQ</td>\n",
       "      <td>0</td>\n",
       "    </tr>\n",
       "    <tr>\n",
       "      <th>86476</th>\n",
       "      <td>DSKSLLRKYLTKEVF</td>\n",
       "      <td>0</td>\n",
       "    </tr>\n",
       "  </tbody>\n",
       "</table>\n",
       "<p>86477 rows × 2 columns</p>\n",
       "</div>"
      ],
      "text/plain": [
       "                                                sequence  Activity\n",
       "0                                          KKKKVVEATYVLV         1\n",
       "1                          GLPVCGESCFGGSCYTPGCSCTWPICTRD         1\n",
       "2      MQYKINMYAIVVYDVNVSRQNQIREFLRKYLYHVQRSVFEGEISPS...         1\n",
       "3                          KQEGRDHDKSKGHFHMIVIHHKGGQAHHG         1\n",
       "4                                           LAHKSRLYERHM         1\n",
       "...                                                  ...       ...\n",
       "86472                 RRRRRRRRGNLWAAQRYGRELRRMSDEFVDSFKK         0\n",
       "86473                     VIGGDECNINEHRFLVALYDGLSGTFLCGG         0\n",
       "86474  MAAHKSFRIKQKLAKKLKQNRSVPQWVRLATGNTIRYNAKRRHWRR...         0\n",
       "86475    GIACLCDSDGPSVRGNTLSGTYWLAGCPSGWHNCKSSGQLIGACCKQ         0\n",
       "86476                                    DSKSLLRKYLTKEVF         0\n",
       "\n",
       "[86477 rows x 2 columns]"
      ]
     },
     "execution_count": 3,
     "metadata": {},
     "output_type": "execute_result"
    }
   ],
   "source": [
    "df_data = pd.read_csv(\"../sequence_processing/peptides_avp/antiviral.csv\")\n",
    "df_data"
   ]
  },
  {
   "cell_type": "code",
   "execution_count": 4,
   "metadata": {},
   "outputs": [
    {
     "data": {
      "text/plain": [
       "Activity\n",
       "0    81300\n",
       "1     5177\n",
       "Name: count, dtype: int64"
      ]
     },
     "execution_count": 4,
     "metadata": {},
     "output_type": "execute_result"
    }
   ],
   "source": [
    "df_data[\"Activity\"].value_counts()"
   ]
  },
  {
   "cell_type": "code",
   "execution_count": 5,
   "metadata": {},
   "outputs": [],
   "source": [
    "from sklearn.utils import shuffle"
   ]
  },
  {
   "cell_type": "code",
   "execution_count": 6,
   "metadata": {},
   "outputs": [
    {
     "data": {
      "text/plain": [
       "Activity\n",
       "1    5177\n",
       "0    5177\n",
       "Name: count, dtype: int64"
      ]
     },
     "execution_count": 6,
     "metadata": {},
     "output_type": "execute_result"
    }
   ],
   "source": [
    "df_positivo = df_data[df_data[\"Activity\"] == 1]\n",
    "df_negativo = df_data[df_data[\"Activity\"] == 0]\n",
    "\n",
    "df_negativo = shuffle(df_negativo, n_samples=len(df_positivo), random_state=42)\n",
    "\n",
    "df_concat = pd.concat([df_positivo, df_negativo], axis=0)\n",
    "df_concat[\"Activity\"].value_counts()"
   ]
  },
  {
   "cell_type": "code",
   "execution_count": 8,
   "metadata": {},
   "outputs": [],
   "source": [
    "df_concat[\"MW\"] = df_concat[\"sequence\"].apply(get_mw)\n",
    "df_concat[\"isoelectric_point\"] = df_concat[\"sequence\"].apply(get_isoelectric_point)\n",
    "df_concat[\"aromaticity\"] = df_concat[\"sequence\"].apply(get_aromaticity)\n",
    "df_concat[\"aliphatic_index\"] = df_concat[\"sequence\"].apply(get_aliphatic_index)\n",
    "df_concat[\"boman_index\"] = df_concat[\"sequence\"].apply(get_boman_index)\n",
    "df_concat[\"charge\"] = df_concat[\"sequence\"].apply(get_charge)\n",
    "df_concat[\"charge_density\"] = df_concat[\"sequence\"].apply(get_charge_density)\n",
    "df_concat[\"hydrophobic_ratio\"] = df_concat[\"sequence\"].apply(get_hydrophobic_ratio)\n",
    "df_concat[\"instability_index\"] = df_concat[\"sequence\"].apply(get_instability_index)\n",
    "\n",
    "df_concat.to_csv(\"estimated_properties.csv\", index=False)"
   ]
  }
 ],
 "metadata": {
  "kernelspec": {
   "display_name": "develop",
   "language": "python",
   "name": "python3"
  },
  "language_info": {
   "codemirror_mode": {
    "name": "ipython",
    "version": 3
   },
   "file_extension": ".py",
   "mimetype": "text/x-python",
   "name": "python",
   "nbconvert_exporter": "python",
   "pygments_lexer": "ipython3",
   "version": "3.12.3"
  }
 },
 "nbformat": 4,
 "nbformat_minor": 2
}
