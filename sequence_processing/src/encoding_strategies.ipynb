{
 "cells": [
  {
   "cell_type": "code",
   "execution_count": 1,
   "metadata": {},
   "outputs": [],
   "source": [
    "import pandas as pd"
   ]
  },
  {
   "cell_type": "code",
   "execution_count": 4,
   "metadata": {},
   "outputs": [],
   "source": [
    "residues = ['A', 'M', 'R', 'W', 'C', 'T', 'K', 'I', 'Y', 'N', 'L', 'S', 'P', 'H', 'V', 'E', 'D', 'G', 'Q', 'F']\n",
    "residues.sort()"
   ]
  },
  {
   "cell_type": "code",
   "execution_count": 6,
   "metadata": {},
   "outputs": [
    {
     "data": {
      "text/plain": [
       "[0, 0, 0, 0, 0, 0, 0, 0, 0, 0, 1, 0, 0, 0, 0, 0, 0, 0, 0, 0]"
      ]
     },
     "execution_count": 6,
     "metadata": {},
     "output_type": "execute_result"
    }
   ],
   "source": [
    "'MNT'\n",
    "M = [0 for i in range(20)]\n",
    "M[10] = 1\n",
    "M"
   ]
  },
  {
   "cell_type": "code",
   "execution_count": 2,
   "metadata": {},
   "outputs": [
    {
     "data": {
      "text/html": [
       "<div>\n",
       "<style scoped>\n",
       "    .dataframe tbody tr th:only-of-type {\n",
       "        vertical-align: middle;\n",
       "    }\n",
       "\n",
       "    .dataframe tbody tr th {\n",
       "        vertical-align: top;\n",
       "    }\n",
       "\n",
       "    .dataframe thead th {\n",
       "        text-align: right;\n",
       "    }\n",
       "</style>\n",
       "<table border=\"1\" class=\"dataframe\">\n",
       "  <thead>\n",
       "    <tr style=\"text-align: right;\">\n",
       "      <th></th>\n",
       "      <th>sequence</th>\n",
       "      <th>response</th>\n",
       "    </tr>\n",
       "  </thead>\n",
       "  <tbody>\n",
       "    <tr>\n",
       "      <th>0</th>\n",
       "      <td>MNTTPVHALTDIDGGIAVDPAPRLAGPPVFGGPGNDAFDLAPVRST...</td>\n",
       "      <td>0</td>\n",
       "    </tr>\n",
       "    <tr>\n",
       "      <th>1</th>\n",
       "      <td>LTCGTNSGFVCKGTQTQYAGGFAPGVGYGGFGGGSCTATKTPVIFI...</td>\n",
       "      <td>0</td>\n",
       "    </tr>\n",
       "    <tr>\n",
       "      <th>2</th>\n",
       "      <td>AANPYERGPNPTDALLEARSGPFSVSEENVSRLSASGFGGGTIYYP...</td>\n",
       "      <td>1</td>\n",
       "    </tr>\n",
       "    <tr>\n",
       "      <th>3</th>\n",
       "      <td>MIKPVTFMSEGEQIIGVLHVPDDLRGDKRAPAIAMFHGFTGNKSEA...</td>\n",
       "      <td>1</td>\n",
       "    </tr>\n",
       "    <tr>\n",
       "      <th>4</th>\n",
       "      <td>MKFFALTTLLAATASALPTSHPVQELEARQLGGGTTRNDLTNGNSA...</td>\n",
       "      <td>0</td>\n",
       "    </tr>\n",
       "    <tr>\n",
       "      <th>...</th>\n",
       "      <td>...</td>\n",
       "      <td>...</td>\n",
       "    </tr>\n",
       "    <tr>\n",
       "      <th>423</th>\n",
       "      <td>MANPYERGPNPTDALLEASSGPFSVSEENVSRLSASGFGGGTIYYP...</td>\n",
       "      <td>1</td>\n",
       "    </tr>\n",
       "    <tr>\n",
       "      <th>424</th>\n",
       "      <td>MFGKLPFARASLAVGALLLSAAAVAQTNPYQRGPDPTVSSLEATRG...</td>\n",
       "      <td>1</td>\n",
       "    </tr>\n",
       "    <tr>\n",
       "      <th>425</th>\n",
       "      <td>MKKNLNKIATIILLVFSMTLTNFSMIVRAAEPKAQGTQKVESSTTK...</td>\n",
       "      <td>1</td>\n",
       "    </tr>\n",
       "    <tr>\n",
       "      <th>426</th>\n",
       "      <td>MLYHAYQIYADMILPACTLAELAAATLAANPRSGGFDAVPRLRAAC...</td>\n",
       "      <td>0</td>\n",
       "    </tr>\n",
       "    <tr>\n",
       "      <th>427</th>\n",
       "      <td>MLYQLVEYQRALLAPFTAWAASAANAFIDPASPFAYVPGASCFAAG...</td>\n",
       "      <td>0</td>\n",
       "    </tr>\n",
       "  </tbody>\n",
       "</table>\n",
       "<p>428 rows × 2 columns</p>\n",
       "</div>"
      ],
      "text/plain": [
       "                                              sequence  response\n",
       "0    MNTTPVHALTDIDGGIAVDPAPRLAGPPVFGGPGNDAFDLAPVRST...         0\n",
       "1    LTCGTNSGFVCKGTQTQYAGGFAPGVGYGGFGGGSCTATKTPVIFI...         0\n",
       "2    AANPYERGPNPTDALLEARSGPFSVSEENVSRLSASGFGGGTIYYP...         1\n",
       "3    MIKPVTFMSEGEQIIGVLHVPDDLRGDKRAPAIAMFHGFTGNKSEA...         1\n",
       "4    MKFFALTTLLAATASALPTSHPVQELEARQLGGGTTRNDLTNGNSA...         0\n",
       "..                                                 ...       ...\n",
       "423  MANPYERGPNPTDALLEASSGPFSVSEENVSRLSASGFGGGTIYYP...         1\n",
       "424  MFGKLPFARASLAVGALLLSAAAVAQTNPYQRGPDPTVSSLEATRG...         1\n",
       "425  MKKNLNKIATIILLVFSMTLTNFSMIVRAAEPKAQGTQKVESSTTK...         1\n",
       "426  MLYHAYQIYADMILPACTLAELAAATLAANPRSGGFDAVPRLRAAC...         0\n",
       "427  MLYQLVEYQRALLAPFTAWAASAANAFIDPASPFAYVPGASCFAAG...         0\n",
       "\n",
       "[428 rows x 2 columns]"
      ]
     },
     "execution_count": 2,
     "metadata": {},
     "output_type": "execute_result"
    }
   ],
   "source": [
    "df_data = pd.read_csv(\"../PET/raw_dataset.csv\")\n",
    "df_data"
   ]
  }
 ],
 "metadata": {
  "kernelspec": {
   "display_name": "develop",
   "language": "python",
   "name": "python3"
  },
  "language_info": {
   "codemirror_mode": {
    "name": "ipython",
    "version": 3
   },
   "file_extension": ".py",
   "mimetype": "text/x-python",
   "name": "python",
   "nbconvert_exporter": "python",
   "pygments_lexer": "ipython3",
   "version": "3.12.3"
  }
 },
 "nbformat": 4,
 "nbformat_minor": 2
}
