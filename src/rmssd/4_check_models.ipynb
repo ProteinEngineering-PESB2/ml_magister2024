{
 "cells": [
  {
   "cell_type": "code",
   "execution_count": 2,
   "metadata": {},
   "outputs": [],
   "source": [
    "import pandas as pd\n",
    "from joblib import load\n",
    "import numpy as np\n",
    "\n",
    "from sklearn.metrics import accuracy_score, recall_score, precision_score, f1_score, matthews_corrcoef, confusion_matrix"
   ]
  },
  {
   "cell_type": "code",
   "execution_count": 3,
   "metadata": {},
   "outputs": [],
   "source": [
    "scaler_instance = load(\"../../results/rmssd/scaler.joblib\")\n",
    "knn_model = load(\"../../results/rmssd/knn_model.joblib\")\n",
    "rf_model = load(\"../../results/rmssd/rf_model.joblib\")\n",
    "svm_model = load(\"../../results/rmssd/svm_model.joblib\")\n",
    "dt_model = load(\"../../results/rmssd/dt_model.joblib\")"
   ]
  },
  {
   "cell_type": "code",
   "execution_count": 4,
   "metadata": {},
   "outputs": [],
   "source": [
    "val_data = pd.read_csv(\"../../process_dataset/rmssd/val_data.csv\")\n",
    "test_data = pd.read_csv(\"../../process_dataset/rmssd/test_data.csv\")\n",
    "\n",
    "y_val = np.load(\"../../process_dataset/rmssd/y_val.npy\")\n",
    "y_test = np.load(\"../../process_dataset/rmssd/y_test.npy\")"
   ]
  },
  {
   "cell_type": "code",
   "execution_count": 5,
   "metadata": {},
   "outputs": [],
   "source": [
    "val_data_scaler = scaler_instance.transform(val_data.values)\n",
    "test_data_scaler = scaler_instance.transform(test_data.values)"
   ]
  },
  {
   "cell_type": "code",
   "execution_count": 6,
   "metadata": {},
   "outputs": [
    {
     "name": "stderr",
     "output_type": "stream",
     "text": [
      "/home/dmedina/miniconda3/envs/data_driven_library/lib/python3.9/site-packages/sklearn/base.py:420: UserWarning: X does not have valid feature names, but KNeighborsClassifier was fitted with feature names\n",
      "  warnings.warn(\n",
      "/home/dmedina/miniconda3/envs/data_driven_library/lib/python3.9/site-packages/sklearn/base.py:420: UserWarning: X does not have valid feature names, but KNeighborsClassifier was fitted with feature names\n",
      "  warnings.warn(\n"
     ]
    }
   ],
   "source": [
    "predict_val = knn_model.predict(X=val_data_scaler)\n",
    "predict_test = knn_model.predict(X=test_data_scaler)"
   ]
  },
  {
   "cell_type": "code",
   "execution_count": 7,
   "metadata": {},
   "outputs": [
    {
     "name": "stderr",
     "output_type": "stream",
     "text": [
      "/home/dmedina/miniconda3/envs/data_driven_library/lib/python3.9/site-packages/sklearn/base.py:420: UserWarning: X does not have valid feature names, but RandomForestClassifier was fitted with feature names\n",
      "  warnings.warn(\n"
     ]
    }
   ],
   "source": [
    "predict_val_rf = rf_model.predict(X=val_data_scaler)"
   ]
  },
  {
   "cell_type": "code",
   "execution_count": 8,
   "metadata": {},
   "outputs": [
    {
     "name": "stderr",
     "output_type": "stream",
     "text": [
      "/home/dmedina/miniconda3/envs/data_driven_library/lib/python3.9/site-packages/sklearn/base.py:420: UserWarning: X does not have valid feature names, but RandomForestClassifier was fitted with feature names\n",
      "  warnings.warn(\n",
      "/home/dmedina/miniconda3/envs/data_driven_library/lib/python3.9/site-packages/sklearn/base.py:420: UserWarning: X does not have valid feature names, but KNeighborsClassifier was fitted with feature names\n",
      "  warnings.warn(\n"
     ]
    }
   ],
   "source": [
    "predict_test_rf = rf_model.predict(X=test_data_scaler)\n",
    "predict_test_knn = knn_model.predict(X=test_data_scaler)"
   ]
  },
  {
   "cell_type": "code",
   "execution_count": 9,
   "metadata": {},
   "outputs": [
    {
     "data": {
      "text/plain": [
       "[0.4895833333333333,\n",
       " 0.2558139534883721,\n",
       " 0.39285714285714285,\n",
       " 0.3098591549295775,\n",
       " -0.07104869098008382,\n",
       " array([[36, 17],\n",
       "        [32, 11]])]"
      ]
     },
     "execution_count": 9,
     "metadata": {},
     "output_type": "execute_result"
    }
   ],
   "source": [
    "acc_value = accuracy_score(y_pred=predict_val, y_true=y_val) \n",
    "recall_value = recall_score(y_pred=predict_val, y_true=y_val)\n",
    "precision_value = precision_score(y_pred=predict_val, y_true=y_val) \n",
    "f1_value = f1_score(y_pred=predict_val, y_true=y_val)\n",
    "mcc_value = matthews_corrcoef(y_pred=predict_val, y_true=y_val)\n",
    "cm = confusion_matrix(y_pred=predict_val, y_true=y_val)\n",
    "\n",
    "[acc_value, recall_value, precision_value, f1_value, mcc_value, cm]"
   ]
  },
  {
   "cell_type": "code",
   "execution_count": 10,
   "metadata": {},
   "outputs": [
    {
     "data": {
      "text/plain": [
       "[0.5416666666666666,\n",
       " 0.27906976744186046,\n",
       " 0.48,\n",
       " 0.35294117647058815,\n",
       " 0.03828418303335342,\n",
       " array([[40, 13],\n",
       "        [31, 12]])]"
      ]
     },
     "execution_count": 10,
     "metadata": {},
     "output_type": "execute_result"
    }
   ],
   "source": [
    "acc_value = accuracy_score(y_pred=predict_val_rf, y_true=y_val) \n",
    "recall_value = recall_score(y_pred=predict_val_rf, y_true=y_val)\n",
    "precision_value = precision_score(y_pred=predict_val_rf, y_true=y_val) \n",
    "f1_value = f1_score(y_pred=predict_val_rf, y_true=y_val)\n",
    "mcc_value = matthews_corrcoef(y_pred=predict_val_rf, y_true=y_val)\n",
    "cm = confusion_matrix(y_pred=predict_val_rf, y_true=y_val)\n",
    "\n",
    "[acc_value, recall_value, precision_value, f1_value, mcc_value, cm]"
   ]
  },
  {
   "cell_type": "code",
   "execution_count": 11,
   "metadata": {},
   "outputs": [
    {
     "data": {
      "text/plain": [
       "[0.660377358490566,\n",
       " 0.3125,\n",
       " 0.4166666666666667,\n",
       " 0.35714285714285715,\n",
       " 0.1352631370262771,\n",
       " array([[30,  7],\n",
       "        [11,  5]])]"
      ]
     },
     "execution_count": 11,
     "metadata": {},
     "output_type": "execute_result"
    }
   ],
   "source": [
    "acc_value = accuracy_score(y_pred=predict_test_rf, y_true=y_test) \n",
    "recall_value = recall_score(y_pred=predict_test_rf, y_true=y_test)\n",
    "precision_value = precision_score(y_pred=predict_test_rf, y_true=y_test) \n",
    "f1_value = f1_score(y_pred=predict_test_rf, y_true=y_test)\n",
    "mcc_value = matthews_corrcoef(y_pred=predict_test_rf, y_true=y_test)\n",
    "cm = confusion_matrix(y_pred=predict_test_rf, y_true=y_test)\n",
    "\n",
    "[acc_value, recall_value, precision_value, f1_value, mcc_value, cm]"
   ]
  },
  {
   "cell_type": "code",
   "execution_count": 12,
   "metadata": {},
   "outputs": [
    {
     "data": {
      "text/plain": [
       "[0.5660377358490566,\n",
       " 0.25,\n",
       " 0.26666666666666666,\n",
       " 0.2580645161290323,\n",
       " -0.04820141084643202,\n",
       " array([[26, 11],\n",
       "        [12,  4]])]"
      ]
     },
     "execution_count": 12,
     "metadata": {},
     "output_type": "execute_result"
    }
   ],
   "source": [
    "acc_value = accuracy_score(y_pred=predict_test_knn, y_true=y_test) \n",
    "recall_value = recall_score(y_pred=predict_test_knn, y_true=y_test)\n",
    "precision_value = precision_score(y_pred=predict_test_knn, y_true=y_test) \n",
    "f1_value = f1_score(y_pred=predict_test_knn, y_true=y_test)\n",
    "mcc_value = matthews_corrcoef(y_pred=predict_test_knn, y_true=y_test)\n",
    "cm = confusion_matrix(y_pred=predict_test_knn, y_true=y_test)\n",
    "\n",
    "[acc_value, recall_value, precision_value, f1_value, mcc_value, cm]"
   ]
  },
  {
   "cell_type": "code",
   "execution_count": 13,
   "metadata": {},
   "outputs": [
    {
     "name": "stderr",
     "output_type": "stream",
     "text": [
      "/home/dmedina/miniconda3/envs/data_driven_library/lib/python3.9/site-packages/sklearn/base.py:420: UserWarning: X does not have valid feature names, but RandomForestClassifier was fitted with feature names\n",
      "  warnings.warn(\n"
     ]
    },
    {
     "data": {
      "text/plain": [
       "array([[0.57, 0.43],\n",
       "       [0.58, 0.42],\n",
       "       [0.78, 0.22],\n",
       "       [0.64, 0.36],\n",
       "       [0.55, 0.45],\n",
       "       [0.71, 0.29],\n",
       "       [0.71, 0.29],\n",
       "       [0.84, 0.16],\n",
       "       [0.57, 0.43],\n",
       "       [0.71, 0.29],\n",
       "       [0.61, 0.39],\n",
       "       [0.75, 0.25],\n",
       "       [0.57, 0.43],\n",
       "       [0.56, 0.44],\n",
       "       [0.76, 0.24],\n",
       "       [0.89, 0.11],\n",
       "       [0.55, 0.45],\n",
       "       [0.84, 0.16],\n",
       "       [0.33, 0.67],\n",
       "       [0.85, 0.15],\n",
       "       [0.64, 0.36],\n",
       "       [0.64, 0.36],\n",
       "       [0.23, 0.77],\n",
       "       [0.52, 0.48],\n",
       "       [0.54, 0.46],\n",
       "       [0.64, 0.36],\n",
       "       [0.22, 0.78],\n",
       "       [0.89, 0.11],\n",
       "       [0.38, 0.62],\n",
       "       [0.83, 0.17],\n",
       "       [0.47, 0.53],\n",
       "       [0.54, 0.46],\n",
       "       [0.54, 0.46],\n",
       "       [0.67, 0.33],\n",
       "       [0.4 , 0.6 ],\n",
       "       [0.3 , 0.7 ],\n",
       "       [0.5 , 0.5 ],\n",
       "       [0.67, 0.33],\n",
       "       [0.59, 0.41],\n",
       "       [0.73, 0.27],\n",
       "       [0.42, 0.58],\n",
       "       [0.34, 0.66],\n",
       "       [0.59, 0.41],\n",
       "       [0.61, 0.39],\n",
       "       [0.56, 0.44],\n",
       "       [0.7 , 0.3 ],\n",
       "       [0.43, 0.57],\n",
       "       [0.25, 0.75],\n",
       "       [0.71, 0.29],\n",
       "       [0.74, 0.26],\n",
       "       [0.36, 0.64],\n",
       "       [0.76, 0.24],\n",
       "       [0.84, 0.16]])"
      ]
     },
     "execution_count": 13,
     "metadata": {},
     "output_type": "execute_result"
    }
   ],
   "source": [
    "rf_model.predict_proba(X=test_data_scaler)"
   ]
  }
 ],
 "metadata": {
  "kernelspec": {
   "display_name": "amp_class_models",
   "language": "python",
   "name": "python3"
  },
  "language_info": {
   "codemirror_mode": {
    "name": "ipython",
    "version": 3
   },
   "file_extension": ".py",
   "mimetype": "text/x-python",
   "name": "python",
   "nbconvert_exporter": "python",
   "pygments_lexer": "ipython3",
   "version": "3.9.19"
  },
  "orig_nbformat": 4,
  "vscode": {
   "interpreter": {
    "hash": "7083de4b0402f53e7c3ee94a03dce799a26de2893c2a83f7f50740b3282fcfd1"
   }
  }
 },
 "nbformat": 4,
 "nbformat_minor": 2
}
