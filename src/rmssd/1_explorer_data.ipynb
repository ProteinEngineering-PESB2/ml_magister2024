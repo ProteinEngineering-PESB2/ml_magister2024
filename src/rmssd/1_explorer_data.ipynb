{
 "cells": [
  {
   "cell_type": "code",
   "execution_count": 1,
   "metadata": {},
   "outputs": [],
   "source": [
    "import pandas as pd\n",
    "import seaborn as sns\n",
    "from sklearn.model_selection import train_test_split\n",
    "import numpy as np"
   ]
  },
  {
   "cell_type": "code",
   "execution_count": 2,
   "metadata": {},
   "outputs": [
    {
     "data": {
      "text/html": [
       "<div>\n",
       "<style scoped>\n",
       "    .dataframe tbody tr th:only-of-type {\n",
       "        vertical-align: middle;\n",
       "    }\n",
       "\n",
       "    .dataframe tbody tr th {\n",
       "        vertical-align: top;\n",
       "    }\n",
       "\n",
       "    .dataframe thead th {\n",
       "        text-align: right;\n",
       "    }\n",
       "</style>\n",
       "<table border=\"1\" class=\"dataframe\">\n",
       "  <thead>\n",
       "    <tr style=\"text-align: right;\">\n",
       "      <th></th>\n",
       "      <th>Unnamed: 0</th>\n",
       "      <th>Unnamed: 1</th>\n",
       "      <th>redcap_repeat_instrument</th>\n",
       "      <th>sex</th>\n",
       "      <th>age</th>\n",
       "      <th>t2m_pre_mean_rr</th>\n",
       "      <th>t2m_pre_rmssd</th>\n",
       "      <th>t2m_pre_sd1</th>\n",
       "      <th>t2m_pre_pns</th>\n",
       "      <th>t2m_pre_mean_hr</th>\n",
       "      <th>...</th>\n",
       "      <th>t2m_pre_lf</th>\n",
       "      <th>t2m_pre_vlf</th>\n",
       "      <th>bp_systolic</th>\n",
       "      <th>bp_diastolic</th>\n",
       "      <th>bp_pam</th>\n",
       "      <th>bp_pp</th>\n",
       "      <th>Weight kg</th>\n",
       "      <th>Height cm</th>\n",
       "      <th>Height mt</th>\n",
       "      <th>imc</th>\n",
       "    </tr>\n",
       "  </thead>\n",
       "  <tbody>\n",
       "    <tr>\n",
       "      <th>0</th>\n",
       "      <td>NaN</td>\n",
       "      <td>NaN</td>\n",
       "      <td>NaN</td>\n",
       "      <td>1.0</td>\n",
       "      <td>75.0</td>\n",
       "      <td>74.8</td>\n",
       "      <td>21.7</td>\n",
       "      <td>274.0</td>\n",
       "      <td>-140.0</td>\n",
       "      <td>80</td>\n",
       "      <td>...</td>\n",
       "      <td>713.0</td>\n",
       "      <td>172.0</td>\n",
       "      <td>108</td>\n",
       "      <td>70</td>\n",
       "      <td>82.666667</td>\n",
       "      <td>38</td>\n",
       "      <td>70.0</td>\n",
       "      <td>160</td>\n",
       "      <td>1.60</td>\n",
       "      <td>27.343750</td>\n",
       "    </tr>\n",
       "    <tr>\n",
       "      <th>1</th>\n",
       "      <td>NaN</td>\n",
       "      <td>NaN</td>\n",
       "      <td>NaN</td>\n",
       "      <td>1.0</td>\n",
       "      <td>66.0</td>\n",
       "      <td>95.3</td>\n",
       "      <td>18.8</td>\n",
       "      <td>285.0</td>\n",
       "      <td>-54.0</td>\n",
       "      <td>63</td>\n",
       "      <td>...</td>\n",
       "      <td>226.0</td>\n",
       "      <td>29.0</td>\n",
       "      <td>122</td>\n",
       "      <td>72</td>\n",
       "      <td>88.666667</td>\n",
       "      <td>50</td>\n",
       "      <td>52.0</td>\n",
       "      <td>149</td>\n",
       "      <td>1.49</td>\n",
       "      <td>23.422368</td>\n",
       "    </tr>\n",
       "    <tr>\n",
       "      <th>2</th>\n",
       "      <td>NaN</td>\n",
       "      <td>NaN</td>\n",
       "      <td>NaN</td>\n",
       "      <td>2.0</td>\n",
       "      <td>77.0</td>\n",
       "      <td>87.7</td>\n",
       "      <td>11.7</td>\n",
       "      <td>303.0</td>\n",
       "      <td>-105.0</td>\n",
       "      <td>68</td>\n",
       "      <td>...</td>\n",
       "      <td>137.0</td>\n",
       "      <td>9.0</td>\n",
       "      <td>125</td>\n",
       "      <td>85</td>\n",
       "      <td>98.333333</td>\n",
       "      <td>40</td>\n",
       "      <td>81.0</td>\n",
       "      <td>170</td>\n",
       "      <td>1.70</td>\n",
       "      <td>28.027682</td>\n",
       "    </tr>\n",
       "    <tr>\n",
       "      <th>3</th>\n",
       "      <td>NaN</td>\n",
       "      <td>NaN</td>\n",
       "      <td>NaN</td>\n",
       "      <td>1.0</td>\n",
       "      <td>77.0</td>\n",
       "      <td>81.9</td>\n",
       "      <td>17.5</td>\n",
       "      <td>376.0</td>\n",
       "      <td>-106.0</td>\n",
       "      <td>73</td>\n",
       "      <td>...</td>\n",
       "      <td>130.0</td>\n",
       "      <td>14.0</td>\n",
       "      <td>126</td>\n",
       "      <td>72</td>\n",
       "      <td>90.000000</td>\n",
       "      <td>54</td>\n",
       "      <td>85.0</td>\n",
       "      <td>160</td>\n",
       "      <td>1.60</td>\n",
       "      <td>33.203125</td>\n",
       "    </tr>\n",
       "    <tr>\n",
       "      <th>4</th>\n",
       "      <td>NaN</td>\n",
       "      <td>NaN</td>\n",
       "      <td>NaN</td>\n",
       "      <td>1.0</td>\n",
       "      <td>73.0</td>\n",
       "      <td>84.6</td>\n",
       "      <td>13.6</td>\n",
       "      <td>295.0</td>\n",
       "      <td>-115.0</td>\n",
       "      <td>71</td>\n",
       "      <td>...</td>\n",
       "      <td>66.0</td>\n",
       "      <td>18.0</td>\n",
       "      <td>130</td>\n",
       "      <td>80</td>\n",
       "      <td>96.666667</td>\n",
       "      <td>50</td>\n",
       "      <td>69.0</td>\n",
       "      <td>151</td>\n",
       "      <td>1.51</td>\n",
       "      <td>30.261831</td>\n",
       "    </tr>\n",
       "  </tbody>\n",
       "</table>\n",
       "<p>5 rows × 25 columns</p>\n",
       "</div>"
      ],
      "text/plain": [
       "   Unnamed: 0  Unnamed: 1  redcap_repeat_instrument  sex   age  \\\n",
       "0         NaN         NaN                       NaN  1.0  75.0   \n",
       "1         NaN         NaN                       NaN  1.0  66.0   \n",
       "2         NaN         NaN                       NaN  2.0  77.0   \n",
       "3         NaN         NaN                       NaN  1.0  77.0   \n",
       "4         NaN         NaN                       NaN  1.0  73.0   \n",
       "\n",
       "   t2m_pre_mean_rr  t2m_pre_rmssd  t2m_pre_sd1  t2m_pre_pns  t2m_pre_mean_hr  \\\n",
       "0             74.8           21.7        274.0       -140.0               80   \n",
       "1             95.3           18.8        285.0        -54.0               63   \n",
       "2             87.7           11.7        303.0       -105.0               68   \n",
       "3             81.9           17.5        376.0       -106.0               73   \n",
       "4             84.6           13.6        295.0       -115.0               71   \n",
       "\n",
       "   ...  t2m_pre_lf  t2m_pre_vlf  bp_systolic  bp_diastolic     bp_pam  bp_pp  \\\n",
       "0  ...       713.0        172.0          108            70  82.666667     38   \n",
       "1  ...       226.0         29.0          122            72  88.666667     50   \n",
       "2  ...       137.0          9.0          125            85  98.333333     40   \n",
       "3  ...       130.0         14.0          126            72  90.000000     54   \n",
       "4  ...        66.0         18.0          130            80  96.666667     50   \n",
       "\n",
       "   Weight kg  Height cm  Height mt        imc  \n",
       "0       70.0        160       1.60  27.343750  \n",
       "1       52.0        149       1.49  23.422368  \n",
       "2       81.0        170       1.70  28.027682  \n",
       "3       85.0        160       1.60  33.203125  \n",
       "4       69.0        151       1.51  30.261831  \n",
       "\n",
       "[5 rows x 25 columns]"
      ]
     },
     "execution_count": 2,
     "metadata": {},
     "output_type": "execute_result"
    }
   ],
   "source": [
    "raw_data = pd.read_excel(\"../../raw/rmssd/Basal v2.xlsx\")\n",
    "raw_data.head(5)"
   ]
  },
  {
   "cell_type": "code",
   "execution_count": 3,
   "metadata": {},
   "outputs": [
    {
     "data": {
      "text/plain": [
       "(531, 25)"
      ]
     },
     "execution_count": 3,
     "metadata": {},
     "output_type": "execute_result"
    }
   ],
   "source": [
    "raw_data.shape"
   ]
  },
  {
   "cell_type": "code",
   "execution_count": 4,
   "metadata": {},
   "outputs": [
    {
     "data": {
      "text/plain": [
       "(0, 25)"
      ]
     },
     "execution_count": 4,
     "metadata": {},
     "output_type": "execute_result"
    }
   ],
   "source": [
    "raw_data.dropna().shape"
   ]
  },
  {
   "cell_type": "code",
   "execution_count": 5,
   "metadata": {},
   "outputs": [],
   "source": [
    "raw_data.drop(columns=[\"Unnamed: 0\", \"Unnamed: 1\", \"redcap_repeat_instrument\"], inplace=True)"
   ]
  },
  {
   "cell_type": "code",
   "execution_count": 6,
   "metadata": {},
   "outputs": [
    {
     "data": {
      "text/html": [
       "<div>\n",
       "<style scoped>\n",
       "    .dataframe tbody tr th:only-of-type {\n",
       "        vertical-align: middle;\n",
       "    }\n",
       "\n",
       "    .dataframe tbody tr th {\n",
       "        vertical-align: top;\n",
       "    }\n",
       "\n",
       "    .dataframe thead th {\n",
       "        text-align: right;\n",
       "    }\n",
       "</style>\n",
       "<table border=\"1\" class=\"dataframe\">\n",
       "  <thead>\n",
       "    <tr style=\"text-align: right;\">\n",
       "      <th></th>\n",
       "      <th>sex</th>\n",
       "      <th>age</th>\n",
       "      <th>t2m_pre_mean_rr</th>\n",
       "      <th>t2m_pre_rmssd</th>\n",
       "      <th>t2m_pre_sd1</th>\n",
       "      <th>t2m_pre_pns</th>\n",
       "      <th>t2m_pre_mean_hr</th>\n",
       "      <th>t2m_pre_stress</th>\n",
       "      <th>t2m_pre_sd2</th>\n",
       "      <th>t2m_pre_sns</th>\n",
       "      <th>...</th>\n",
       "      <th>t2m_pre_lf</th>\n",
       "      <th>t2m_pre_vlf</th>\n",
       "      <th>bp_systolic</th>\n",
       "      <th>bp_diastolic</th>\n",
       "      <th>bp_pam</th>\n",
       "      <th>bp_pp</th>\n",
       "      <th>Weight kg</th>\n",
       "      <th>Height cm</th>\n",
       "      <th>Height mt</th>\n",
       "      <th>imc</th>\n",
       "    </tr>\n",
       "  </thead>\n",
       "  <tbody>\n",
       "    <tr>\n",
       "      <th>0</th>\n",
       "      <td>1.0</td>\n",
       "      <td>75.0</td>\n",
       "      <td>74.8</td>\n",
       "      <td>21.7</td>\n",
       "      <td>274.0</td>\n",
       "      <td>-140.0</td>\n",
       "      <td>80</td>\n",
       "      <td>149.0</td>\n",
       "      <td>726.0</td>\n",
       "      <td>184.0</td>\n",
       "      <td>...</td>\n",
       "      <td>713.0</td>\n",
       "      <td>172.0</td>\n",
       "      <td>108</td>\n",
       "      <td>70</td>\n",
       "      <td>82.666667</td>\n",
       "      <td>38</td>\n",
       "      <td>70.0</td>\n",
       "      <td>160</td>\n",
       "      <td>1.60</td>\n",
       "      <td>27.343750</td>\n",
       "    </tr>\n",
       "    <tr>\n",
       "      <th>1</th>\n",
       "      <td>1.0</td>\n",
       "      <td>66.0</td>\n",
       "      <td>95.3</td>\n",
       "      <td>18.8</td>\n",
       "      <td>285.0</td>\n",
       "      <td>-54.0</td>\n",
       "      <td>63</td>\n",
       "      <td>145.0</td>\n",
       "      <td>715.0</td>\n",
       "      <td>68.0</td>\n",
       "      <td>...</td>\n",
       "      <td>226.0</td>\n",
       "      <td>29.0</td>\n",
       "      <td>122</td>\n",
       "      <td>72</td>\n",
       "      <td>88.666667</td>\n",
       "      <td>50</td>\n",
       "      <td>52.0</td>\n",
       "      <td>149</td>\n",
       "      <td>1.49</td>\n",
       "      <td>23.422368</td>\n",
       "    </tr>\n",
       "    <tr>\n",
       "      <th>2</th>\n",
       "      <td>2.0</td>\n",
       "      <td>77.0</td>\n",
       "      <td>87.7</td>\n",
       "      <td>11.7</td>\n",
       "      <td>303.0</td>\n",
       "      <td>-105.0</td>\n",
       "      <td>68</td>\n",
       "      <td>258.0</td>\n",
       "      <td>697.0</td>\n",
       "      <td>276.0</td>\n",
       "      <td>...</td>\n",
       "      <td>137.0</td>\n",
       "      <td>9.0</td>\n",
       "      <td>125</td>\n",
       "      <td>85</td>\n",
       "      <td>98.333333</td>\n",
       "      <td>40</td>\n",
       "      <td>81.0</td>\n",
       "      <td>170</td>\n",
       "      <td>1.70</td>\n",
       "      <td>28.027682</td>\n",
       "    </tr>\n",
       "    <tr>\n",
       "      <th>3</th>\n",
       "      <td>1.0</td>\n",
       "      <td>77.0</td>\n",
       "      <td>81.9</td>\n",
       "      <td>17.5</td>\n",
       "      <td>376.0</td>\n",
       "      <td>-106.0</td>\n",
       "      <td>73</td>\n",
       "      <td>249.0</td>\n",
       "      <td>624.0</td>\n",
       "      <td>283.0</td>\n",
       "      <td>...</td>\n",
       "      <td>130.0</td>\n",
       "      <td>14.0</td>\n",
       "      <td>126</td>\n",
       "      <td>72</td>\n",
       "      <td>90.000000</td>\n",
       "      <td>54</td>\n",
       "      <td>85.0</td>\n",
       "      <td>160</td>\n",
       "      <td>1.60</td>\n",
       "      <td>33.203125</td>\n",
       "    </tr>\n",
       "    <tr>\n",
       "      <th>4</th>\n",
       "      <td>1.0</td>\n",
       "      <td>73.0</td>\n",
       "      <td>84.6</td>\n",
       "      <td>13.6</td>\n",
       "      <td>295.0</td>\n",
       "      <td>-115.0</td>\n",
       "      <td>71</td>\n",
       "      <td>166.0</td>\n",
       "      <td>705.0</td>\n",
       "      <td>149.0</td>\n",
       "      <td>...</td>\n",
       "      <td>66.0</td>\n",
       "      <td>18.0</td>\n",
       "      <td>130</td>\n",
       "      <td>80</td>\n",
       "      <td>96.666667</td>\n",
       "      <td>50</td>\n",
       "      <td>69.0</td>\n",
       "      <td>151</td>\n",
       "      <td>1.51</td>\n",
       "      <td>30.261831</td>\n",
       "    </tr>\n",
       "    <tr>\n",
       "      <th>5</th>\n",
       "      <td>1.0</td>\n",
       "      <td>65.0</td>\n",
       "      <td>129.6</td>\n",
       "      <td>29.8</td>\n",
       "      <td>514.0</td>\n",
       "      <td>156.0</td>\n",
       "      <td>46</td>\n",
       "      <td>141.0</td>\n",
       "      <td>486.0</td>\n",
       "      <td>-71.0</td>\n",
       "      <td>...</td>\n",
       "      <td>69.0</td>\n",
       "      <td>61.0</td>\n",
       "      <td>129</td>\n",
       "      <td>73</td>\n",
       "      <td>91.666667</td>\n",
       "      <td>56</td>\n",
       "      <td>58.0</td>\n",
       "      <td>149</td>\n",
       "      <td>1.49</td>\n",
       "      <td>26.124949</td>\n",
       "    </tr>\n",
       "  </tbody>\n",
       "</table>\n",
       "<p>6 rows × 22 columns</p>\n",
       "</div>"
      ],
      "text/plain": [
       "   sex   age  t2m_pre_mean_rr  t2m_pre_rmssd  t2m_pre_sd1  t2m_pre_pns  \\\n",
       "0  1.0  75.0             74.8           21.7        274.0       -140.0   \n",
       "1  1.0  66.0             95.3           18.8        285.0        -54.0   \n",
       "2  2.0  77.0             87.7           11.7        303.0       -105.0   \n",
       "3  1.0  77.0             81.9           17.5        376.0       -106.0   \n",
       "4  1.0  73.0             84.6           13.6        295.0       -115.0   \n",
       "5  1.0  65.0            129.6           29.8        514.0        156.0   \n",
       "\n",
       "   t2m_pre_mean_hr  t2m_pre_stress  t2m_pre_sd2  t2m_pre_sns  ...  t2m_pre_lf  \\\n",
       "0               80           149.0        726.0        184.0  ...       713.0   \n",
       "1               63           145.0        715.0         68.0  ...       226.0   \n",
       "2               68           258.0        697.0        276.0  ...       137.0   \n",
       "3               73           249.0        624.0        283.0  ...       130.0   \n",
       "4               71           166.0        705.0        149.0  ...        66.0   \n",
       "5               46           141.0        486.0        -71.0  ...        69.0   \n",
       "\n",
       "   t2m_pre_vlf  bp_systolic  bp_diastolic     bp_pam  bp_pp  Weight kg  \\\n",
       "0        172.0          108            70  82.666667     38       70.0   \n",
       "1         29.0          122            72  88.666667     50       52.0   \n",
       "2          9.0          125            85  98.333333     40       81.0   \n",
       "3         14.0          126            72  90.000000     54       85.0   \n",
       "4         18.0          130            80  96.666667     50       69.0   \n",
       "5         61.0          129            73  91.666667     56       58.0   \n",
       "\n",
       "   Height cm  Height mt        imc  \n",
       "0        160       1.60  27.343750  \n",
       "1        149       1.49  23.422368  \n",
       "2        170       1.70  28.027682  \n",
       "3        160       1.60  33.203125  \n",
       "4        151       1.51  30.261831  \n",
       "5        149       1.49  26.124949  \n",
       "\n",
       "[6 rows x 22 columns]"
      ]
     },
     "execution_count": 6,
     "metadata": {},
     "output_type": "execute_result"
    }
   ],
   "source": [
    "raw_data.head(6)"
   ]
  },
  {
   "cell_type": "code",
   "execution_count": 7,
   "metadata": {},
   "outputs": [
    {
     "data": {
      "text/plain": [
       "Index(['sex', 'age', 't2m_pre_mean_rr', 't2m_pre_rmssd', 't2m_pre_sd1',\n",
       "       't2m_pre_pns', 't2m_pre_mean_hr', 't2m_pre_stress', 't2m_pre_sd2',\n",
       "       't2m_pre_sns', 't2m_pre_sdnn', 't2m_pre_hf', 't2m_pre_lf',\n",
       "       't2m_pre_vlf', 'bp_systolic', 'bp_diastolic', 'bp_pam', 'bp_pp',\n",
       "       'Weight kg', 'Height cm', 'Height mt', 'imc'],\n",
       "      dtype='object')"
      ]
     },
     "execution_count": 7,
     "metadata": {},
     "output_type": "execute_result"
    }
   ],
   "source": [
    "raw_data.columns"
   ]
  },
  {
   "cell_type": "code",
   "execution_count": 8,
   "metadata": {},
   "outputs": [
    {
     "data": {
      "text/plain": [
       "sex                float64\n",
       "age                float64\n",
       "t2m_pre_mean_rr    float64\n",
       "t2m_pre_rmssd      float64\n",
       "t2m_pre_sd1        float64\n",
       "t2m_pre_pns        float64\n",
       "t2m_pre_mean_hr      int64\n",
       "t2m_pre_stress     float64\n",
       "t2m_pre_sd2        float64\n",
       "t2m_pre_sns        float64\n",
       "t2m_pre_sdnn       float64\n",
       "t2m_pre_hf         float64\n",
       "t2m_pre_lf         float64\n",
       "t2m_pre_vlf        float64\n",
       "bp_systolic          int64\n",
       "bp_diastolic         int64\n",
       "bp_pam             float64\n",
       "bp_pp                int64\n",
       "Weight kg          float64\n",
       "Height cm            int64\n",
       "Height mt          float64\n",
       "imc                float64\n",
       "dtype: object"
      ]
     },
     "execution_count": 8,
     "metadata": {},
     "output_type": "execute_result"
    }
   ],
   "source": [
    "raw_data.dtypes"
   ]
  },
  {
   "cell_type": "code",
   "execution_count": 9,
   "metadata": {},
   "outputs": [],
   "source": [
    "raw_data.drop(columns=[\"Height mt\"], inplace=True)"
   ]
  },
  {
   "cell_type": "code",
   "execution_count": 10,
   "metadata": {},
   "outputs": [],
   "source": [
    "filter_data_values = raw_data[['sex', 'age', 't2m_pre_rmssd', 'bp_systolic', 'bp_diastolic', 'bp_pam', 'bp_pp', 'Weight kg', 'Height cm', 'imc']]"
   ]
  },
  {
   "cell_type": "code",
   "execution_count": 11,
   "metadata": {},
   "outputs": [
    {
     "data": {
      "text/plain": [
       "1.0    366\n",
       "2.0    164\n",
       "Name: sex, dtype: int64"
      ]
     },
     "execution_count": 11,
     "metadata": {},
     "output_type": "execute_result"
    }
   ],
   "source": [
    "filter_data_values[\"sex\"].value_counts()"
   ]
  },
  {
   "cell_type": "code",
   "execution_count": 12,
   "metadata": {},
   "outputs": [
    {
     "data": {
      "text/plain": [
       "(522, 10)"
      ]
     },
     "execution_count": 12,
     "metadata": {},
     "output_type": "execute_result"
    }
   ],
   "source": [
    "filter_data_values.dropna().shape"
   ]
  },
  {
   "cell_type": "code",
   "execution_count": 13,
   "metadata": {},
   "outputs": [],
   "source": [
    "filter_data_values = filter_data_values[:-1]\n",
    "filter_data_values.fillna(filter_data_values.mean(), inplace=True)"
   ]
  },
  {
   "cell_type": "code",
   "execution_count": 14,
   "metadata": {},
   "outputs": [
    {
     "data": {
      "text/html": [
       "<div>\n",
       "<style scoped>\n",
       "    .dataframe tbody tr th:only-of-type {\n",
       "        vertical-align: middle;\n",
       "    }\n",
       "\n",
       "    .dataframe tbody tr th {\n",
       "        vertical-align: top;\n",
       "    }\n",
       "\n",
       "    .dataframe thead th {\n",
       "        text-align: right;\n",
       "    }\n",
       "</style>\n",
       "<table border=\"1\" class=\"dataframe\">\n",
       "  <thead>\n",
       "    <tr style=\"text-align: right;\">\n",
       "      <th></th>\n",
       "      <th>sex</th>\n",
       "      <th>age</th>\n",
       "      <th>t2m_pre_rmssd</th>\n",
       "      <th>bp_systolic</th>\n",
       "      <th>bp_diastolic</th>\n",
       "      <th>bp_pam</th>\n",
       "      <th>bp_pp</th>\n",
       "      <th>Weight kg</th>\n",
       "      <th>Height cm</th>\n",
       "      <th>imc</th>\n",
       "    </tr>\n",
       "  </thead>\n",
       "  <tbody>\n",
       "    <tr>\n",
       "      <th>count</th>\n",
       "      <td>530.000000</td>\n",
       "      <td>530.000000</td>\n",
       "      <td>530.000000</td>\n",
       "      <td>530.000000</td>\n",
       "      <td>530.000000</td>\n",
       "      <td>530.000000</td>\n",
       "      <td>530.000000</td>\n",
       "      <td>530.000000</td>\n",
       "      <td>530.000000</td>\n",
       "      <td>530.000000</td>\n",
       "    </tr>\n",
       "    <tr>\n",
       "      <th>mean</th>\n",
       "      <td>1.309434</td>\n",
       "      <td>70.862264</td>\n",
       "      <td>14.664176</td>\n",
       "      <td>130.256604</td>\n",
       "      <td>77.477358</td>\n",
       "      <td>95.070440</td>\n",
       "      <td>52.779245</td>\n",
       "      <td>75.039434</td>\n",
       "      <td>156.486792</td>\n",
       "      <td>30.713564</td>\n",
       "    </tr>\n",
       "    <tr>\n",
       "      <th>std</th>\n",
       "      <td>0.462697</td>\n",
       "      <td>6.247108</td>\n",
       "      <td>8.104527</td>\n",
       "      <td>17.318167</td>\n",
       "      <td>10.144162</td>\n",
       "      <td>11.141434</td>\n",
       "      <td>14.142080</td>\n",
       "      <td>14.026612</td>\n",
       "      <td>8.880259</td>\n",
       "      <td>5.532868</td>\n",
       "    </tr>\n",
       "    <tr>\n",
       "      <th>min</th>\n",
       "      <td>1.000000</td>\n",
       "      <td>50.000000</td>\n",
       "      <td>0.500000</td>\n",
       "      <td>80.000000</td>\n",
       "      <td>52.000000</td>\n",
       "      <td>66.000000</td>\n",
       "      <td>16.000000</td>\n",
       "      <td>47.000000</td>\n",
       "      <td>130.000000</td>\n",
       "      <td>18.359375</td>\n",
       "    </tr>\n",
       "    <tr>\n",
       "      <th>25%</th>\n",
       "      <td>1.000000</td>\n",
       "      <td>66.000000</td>\n",
       "      <td>9.900000</td>\n",
       "      <td>119.000000</td>\n",
       "      <td>70.250000</td>\n",
       "      <td>87.666667</td>\n",
       "      <td>43.000000</td>\n",
       "      <td>65.125000</td>\n",
       "      <td>150.000000</td>\n",
       "      <td>26.666667</td>\n",
       "    </tr>\n",
       "    <tr>\n",
       "      <th>50%</th>\n",
       "      <td>1.000000</td>\n",
       "      <td>71.000000</td>\n",
       "      <td>13.700000</td>\n",
       "      <td>128.500000</td>\n",
       "      <td>77.000000</td>\n",
       "      <td>94.333333</td>\n",
       "      <td>51.000000</td>\n",
       "      <td>72.950000</td>\n",
       "      <td>156.000000</td>\n",
       "      <td>29.733333</td>\n",
       "    </tr>\n",
       "    <tr>\n",
       "      <th>75%</th>\n",
       "      <td>2.000000</td>\n",
       "      <td>75.000000</td>\n",
       "      <td>17.900000</td>\n",
       "      <td>140.000000</td>\n",
       "      <td>84.000000</td>\n",
       "      <td>102.000000</td>\n",
       "      <td>61.000000</td>\n",
       "      <td>82.275000</td>\n",
       "      <td>160.000000</td>\n",
       "      <td>33.667215</td>\n",
       "    </tr>\n",
       "    <tr>\n",
       "      <th>max</th>\n",
       "      <td>2.000000</td>\n",
       "      <td>89.000000</td>\n",
       "      <td>71.600000</td>\n",
       "      <td>203.000000</td>\n",
       "      <td>115.000000</td>\n",
       "      <td>135.666667</td>\n",
       "      <td>101.000000</td>\n",
       "      <td>120.000000</td>\n",
       "      <td>180.000000</td>\n",
       "      <td>57.074911</td>\n",
       "    </tr>\n",
       "  </tbody>\n",
       "</table>\n",
       "</div>"
      ],
      "text/plain": [
       "              sex         age  t2m_pre_rmssd  bp_systolic  bp_diastolic  \\\n",
       "count  530.000000  530.000000     530.000000   530.000000    530.000000   \n",
       "mean     1.309434   70.862264      14.664176   130.256604     77.477358   \n",
       "std      0.462697    6.247108       8.104527    17.318167     10.144162   \n",
       "min      1.000000   50.000000       0.500000    80.000000     52.000000   \n",
       "25%      1.000000   66.000000       9.900000   119.000000     70.250000   \n",
       "50%      1.000000   71.000000      13.700000   128.500000     77.000000   \n",
       "75%      2.000000   75.000000      17.900000   140.000000     84.000000   \n",
       "max      2.000000   89.000000      71.600000   203.000000    115.000000   \n",
       "\n",
       "           bp_pam       bp_pp   Weight kg   Height cm         imc  \n",
       "count  530.000000  530.000000  530.000000  530.000000  530.000000  \n",
       "mean    95.070440   52.779245   75.039434  156.486792   30.713564  \n",
       "std     11.141434   14.142080   14.026612    8.880259    5.532868  \n",
       "min     66.000000   16.000000   47.000000  130.000000   18.359375  \n",
       "25%     87.666667   43.000000   65.125000  150.000000   26.666667  \n",
       "50%     94.333333   51.000000   72.950000  156.000000   29.733333  \n",
       "75%    102.000000   61.000000   82.275000  160.000000   33.667215  \n",
       "max    135.666667  101.000000  120.000000  180.000000   57.074911  "
      ]
     },
     "execution_count": 14,
     "metadata": {},
     "output_type": "execute_result"
    }
   ],
   "source": [
    "filter_data_values.describe()"
   ]
  },
  {
   "cell_type": "code",
   "execution_count": 15,
   "metadata": {},
   "outputs": [
    {
     "data": {
      "text/plain": [
       "sex              float64\n",
       "age              float64\n",
       "t2m_pre_rmssd    float64\n",
       "bp_systolic        int64\n",
       "bp_diastolic       int64\n",
       "bp_pam           float64\n",
       "bp_pp              int64\n",
       "Weight kg        float64\n",
       "Height cm          int64\n",
       "imc              float64\n",
       "dtype: object"
      ]
     },
     "execution_count": 15,
     "metadata": {},
     "output_type": "execute_result"
    }
   ],
   "source": [
    "filter_data_values.dtypes"
   ]
  },
  {
   "cell_type": "code",
   "execution_count": 16,
   "metadata": {},
   "outputs": [
    {
     "data": {
      "text/plain": [
       "<AxesSubplot: xlabel='sex', ylabel='t2m_pre_rmssd'>"
      ]
     },
     "execution_count": 16,
     "metadata": {},
     "output_type": "execute_result"
    },
    {
     "data": {
      "image/png": "[encoded data removed]",
      "text/plain": [
       "<Figure size 640x480 with 1 Axes>"
      ]
     },
     "metadata": {},
     "output_type": "display_data"
    }
   ],
   "source": [
    "sns.boxplot(data=filter_data_values, y=\"t2m_pre_rmssd\", x=\"sex\", fill=False)"
   ]
  },
  {
   "cell_type": "code",
   "execution_count": 17,
   "metadata": {},
   "outputs": [],
   "source": [
    "filter_data_values[\"t2m_pre_rmssd\"] = (filter_data_values[\"t2m_pre_rmssd\"] >15).astype(int)"
   ]
  },
  {
   "cell_type": "code",
   "execution_count": 18,
   "metadata": {},
   "outputs": [
    {
     "data": {
      "text/plain": [
       "0    316\n",
       "1    214\n",
       "Name: t2m_pre_rmssd, dtype: int64"
      ]
     },
     "execution_count": 18,
     "metadata": {},
     "output_type": "execute_result"
    }
   ],
   "source": [
    "filter_data_values[\"t2m_pre_rmssd\"].value_counts()"
   ]
  },
  {
   "cell_type": "code",
   "execution_count": 19,
   "metadata": {},
   "outputs": [],
   "source": [
    "response = filter_data_values[\"t2m_pre_rmssd\"]\n",
    "datos = filter_data_values.drop(columns=[\"t2m_pre_rmssd\"])"
   ]
  },
  {
   "cell_type": "code",
   "execution_count": 20,
   "metadata": {},
   "outputs": [],
   "source": [
    "X_train, X_test, y_train, y_test = train_test_split(datos, response, test_size=0.1, random_state=42)\n"
   ]
  },
  {
   "cell_type": "code",
   "execution_count": 21,
   "metadata": {},
   "outputs": [],
   "source": [
    "X_train, X_val, y_train, y_val = train_test_split(X_train, y_train, test_size=0.2, random_state=42)"
   ]
  },
  {
   "cell_type": "code",
   "execution_count": 22,
   "metadata": {},
   "outputs": [],
   "source": [
    "X_train.to_csv(\"../../process_dataset/rmssd/train_data.csv\", index=False)\n",
    "X_val.to_csv(\"../../process_dataset/rmssd/val_data.csv\", index=False)\n",
    "X_test.to_csv(\"../../process_dataset/rmssd/test_data.csv\", index=False)"
   ]
  },
  {
   "cell_type": "code",
   "execution_count": 23,
   "metadata": {},
   "outputs": [],
   "source": [
    "with open(\"../../process_dataset/rmssd/y_train.npy\", 'wb') as doc_export:\n",
    "    np.save(doc_export, y_train)"
   ]
  },
  {
   "cell_type": "code",
   "execution_count": 24,
   "metadata": {},
   "outputs": [],
   "source": [
    "with open(\"../../process_dataset/rmssd/y_val.npy\", 'wb') as doc_export:\n",
    "    np.save(doc_export, y_val)"
   ]
  },
  {
   "cell_type": "code",
   "execution_count": 25,
   "metadata": {},
   "outputs": [],
   "source": [
    "with open(\"../../process_dataset/rmssd/y_test.npy\", 'wb') as doc_export:\n",
    "    np.save(doc_export, y_test)"
   ]
  },
  {
   "cell_type": "code",
   "execution_count": 26,
   "metadata": {},
   "outputs": [],
   "source": [
    "df_counts = pd.DataFrame()\n",
    "df_counts[\"y_values\"] = y_train"
   ]
  },
  {
   "cell_type": "code",
   "execution_count": 27,
   "metadata": {},
   "outputs": [
    {
     "data": {
      "text/plain": [
       "0    226\n",
       "1    155\n",
       "Name: y_values, dtype: int64"
      ]
     },
     "execution_count": 27,
     "metadata": {},
     "output_type": "execute_result"
    }
   ],
   "source": [
    "df_counts[\"y_values\"].value_counts()"
   ]
  }
 ],
 "metadata": {
  "kernelspec": {
   "display_name": "amp_class_models",
   "language": "python",
   "name": "python3"
  },
  "language_info": {
   "codemirror_mode": {
    "name": "ipython",
    "version": 3
   },
   "file_extension": ".py",
   "mimetype": "text/x-python",
   "name": "python",
   "nbconvert_exporter": "python",
   "pygments_lexer": "ipython3",
   "version": "3.9.19"
  },
  "orig_nbformat": 4,
  "vscode": {
   "interpreter": {
    "hash": "7083de4b0402f53e7c3ee94a03dce799a26de2893c2a83f7f50740b3282fcfd1"
   }
  }
 },
 "nbformat": 4,
 "nbformat_minor": 2
}
